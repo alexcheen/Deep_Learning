{
 "cells": [
  {
   "cell_type": "markdown",
   "metadata": {},
   "source": [
    "# AlexNet achievement and modify"
   ]
  },
  {
   "cell_type": "markdown",
   "metadata": {},
   "source": [
    "Reference: \n",
    "\n",
    "Paper: http://papers.nips.cc/paper/4824-imagenet-classification-with-deep-convolutional-neural-networks.pdf\n",
    "\n",
    "Web:  https://kratzert.github.io/2017/02/24/finetuning-alexnet-with-tensorflow.html\n"
   ]
  },
  {
   "cell_type": "markdown",
   "metadata": {},
   "source": [
    "AlexNet结构：\n",
    "\n",
    "|Layer|Type|Channels|Size|Kernel size| Stride|Padding|Activation|Split|\n",
    "|-|-|-|-|-|-|-|-|-|\n",
    "|Out|FC|-|1,000|-|-|-|Softmax|N/A|\n",
    "|F9|FC|-|4096|-|-|-|ReLU|False|\n",
    "|F8|FC|-|4096|-|-|-|ReLU|False|\n",
    "|C7|Conv|256|13*13|3*3|1|SAME|ReLU|True|\n",
    "|C6|Conv|384|13*13|3*3|1|SAME|ReLU|True|\n",
    "|C5|Conv|384|13*13|3*3|1|SAME|ReLU|Fasle|\n",
    "|P4|MaxPooling|256|13*13|3*3|2|VALID|-|True|\n",
    "|C3|Conv|256|27*27|5*5|1|SAME|ReLU|Ture|\n",
    "|P2|MaxPooling|96|27*27|3*3|2|VALID|-|True|\n",
    "|C1|Conv|96|55*55|11*11|4|SAME|ReLU|True|\n",
    "|In|Input|3|224*224|-|-|-|-|N/A|"
   ]
  },
  {
   "cell_type": "markdown",
   "metadata": {},
   "source": [
    "代码解析：\n",
    "网络构造create()\n",
    "```python\n",
    "def create():\n",
    "    \"\"\"\n",
    "    8th Layer: FC and return unscaled activations\n",
    "    7th Layer: FC (w ReLu) -> Dropout\n",
    "    6th Layer: Flatten -> FC (w ReLu) -> Dropout\n",
    "    5th Layer: Conv (w ReLu) -> Pool splitted into two groups\n",
    "    4th Layer: Conv (w ReLu) splitted into two groups\n",
    "    3rd Layer: Conv (w ReLu)\n",
    "    2nd Layer: Conv (w ReLu)  -> Lrn -> Pool with 2 groups\n",
    "    1st Layer: Conv (w ReLu) -> Lrn -> Pool\n",
    "    \"\"\"\n",
    "    \n",
    "    # 1st Layer: Conv (w ReLu) -> Lrn -> Pool\n",
    "    conv1 = conv(self.X, 11, 11, 96, 4, 4, padding='VALID', name='conv1')\n",
    "    norm1 = lrn(conv1, 2, 1e-04, 0.75, name='norm1')\n",
    "    pool1 = max_pool(norm1, 3, 3, 2, 2, padding='VALID', name='pool1')\n",
    "\n",
    "    # 2nd Layer: Conv (w ReLu)  -> Lrn -> Pool with 2 groups\n",
    "    conv2 = conv(pool1, 5, 5, 256, 1, 1, groups=2, name='conv2')\n",
    "    norm2 = lrn(conv2, 2, 1e-04, 0.75, name='norm2')\n",
    "    pool2 = max_pool(norm2, 3, 3, 2, 2, padding='VALID', name='pool2')\n",
    "\n",
    "    # 3rd Layer: Conv (w ReLu)\n",
    "    conv3 = conv(pool2, 3, 3, 384, 1, 1, name='conv3')\n",
    "\n",
    "    # 4th Layer: Conv (w ReLu) splitted into two groups\n",
    "    conv4 = conv(conv3, 3, 3, 384, 1, 1, groups=2, name='conv4')\n",
    "\n",
    "    # 5th Layer: Conv (w ReLu) -> Pool splitted into two groups\n",
    "    conv5 = conv(conv4, 3, 3, 256, 1, 1, groups=2, name='conv5')\n",
    "    pool5 = max_pool(conv5, 3, 3, 2, 2, padding='VALID', name='pool5')\n",
    "\n",
    "    # 6th Layer: Flatten -> FC (w ReLu) -> Dropout\n",
    "    flattened = tf.reshape(pool5, [-1, 6*6*256])\n",
    "    fc6 = fc(flattened, 6*6*256, 4096, name='fc6')\n",
    "    dropout6 = dropout(fc6, self.KEEP_PROB)\n",
    "\n",
    "    # 7th Layer: FC (w ReLu) -> Dropout\n",
    "    fc7 = fc(dropout6, 4096, 4096, name='fc7')\n",
    "    dropout7 = dropout(fc7, self.KEEP_PROB)\n",
    "\n",
    "    # 8th Layer: FC and return unscaled activations\n",
    "    self.fc8 = fc(dropout7, 4096, self.NUM_CLASSES, relu=False, name='fc8')\n",
    "\n",
    "```"
   ]
  },
  {
   "cell_type": "markdown",
   "metadata": {},
   "source": [
    "基本操作： 卷积，全连接，池化，LRN，Dropout\n",
    "```python\n",
    "def conv(arguments):\n",
    "    pass\n",
    "def fc(arguments):\n",
    "    pass\n",
    "def max_pool(arguments):\n",
    "    pass\n",
    "def lrn(arguments):\n",
    "    pass\n",
    "def dropout(argments):\n",
    "    pass:\n",
    "```"
   ]
  },
  {
   "cell_type": "markdown",
   "metadata": {},
   "source": [
    "### tensorflow 数据流式 读取方式"
   ]
  },
  {
   "cell_type": "markdown",
   "metadata": {},
   "source": []
  }
 ],
 "metadata": {
  "kernelspec": {
   "display_name": "Python 3",
   "language": "python",
   "name": "python3"
  },
  "language_info": {
   "codemirror_mode": {
    "name": "ipython",
    "version": 3
   },
   "file_extension": ".py",
   "mimetype": "text/x-python",
   "name": "python",
   "nbconvert_exporter": "python",
   "pygments_lexer": "ipython3",
   "version": "3.5.4"
  }
 },
 "nbformat": 4,
 "nbformat_minor": 2
}
