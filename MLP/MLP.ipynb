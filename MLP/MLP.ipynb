{
 "cells": [
  {
   "cell_type": "markdown",
   "metadata": {},
   "source": [
    "## 多层神经网络(MLP)"
   ]
  },
  {
   "cell_type": "markdown",
   "metadata": {},
   "source": [
    "MLP：\n",
    "反向传播(BP)的四个公式：\n",
    "$$\n",
    "\\begin{equation}\n",
    "\\begin{aligned}\n",
    "& \\delta^{L}=\\bigtriangledown_{a}C\\odot{\\sigma}'(z^{L}) & & & (BP1)\\\\\\\n",
    "& \\delta^{l}=((w^{l+1})^{T}\\delta^{l+1}\\odot{\\sigma}'(z^{l}) & & & (BP2) \\\\\\\n",
    "& \\frac{\\partial C}{\\partial b^{l}_{j}}=\\delta^{l}_{j}  & & & (BP3)\\\\\\\n",
    "& \\frac{\\partial C}{\\partial w^{l}_{jk}}=a^{l-1}_{k}\\delta^{l}_{j} & & & (BP4) \\\\\\\n",
    "\\end{aligned}\n",
    "\\end{equation}\n",
    "\\label{eq:Back_Prop}\n",
    "$$\n",
    "\n",
    "\n",
    "> Michael Nielsen, Neural Networks and Deep Learning[M],  section 2.4\n"
   ]
  },
  {
   "cell_type": "markdown",
   "metadata": {},
   "source": [
    "对于简单的只有一层隐藏层的多层神经网络，能实现非线性分类器。应对本文的数据集，构建一个维度为2的输入层，3个节点的隐藏层，2个输出的输出层。对应前向传递函数为：\n",
    "$$ a_{1}=tanh(W_{1}x_{1}+b_{1})$$\n",
    "$$ \\widehat{y}=a_{2}=softmax(W_{2}a_{1}+b_2)$$\n",
    "其中$\\widehat{y}$为神经元网络输出的预测值。\n",
    "\n",
    "<p>用交叉熵做为损失函数：\n",
    "$$L(y,\\widehat{y})= -\\frac{1}{N} \\sum_{n\\in N}\\sum_{i\\in C}y_{n,i}log\\widehat{y}_{n,i} $$\n",
    "则在在运算中一个epoch就是一次FP运算加一次BP运算。\n",
    "</p>\n",
    "\n",
    "<!-- this form need to update -->\n",
    "\\|输入层 | 第一次_线性_变换 | 第一次_激活_变换 | 第二次_线性_变换 | \\_激活\\_输出\\_预测值\\_\n",
    "-|-|-|-|-|-\n",
    "FP公式|input $x_{1}$ |  $z_{1}=W_{1}x_{1}+b_{1}$ | $a_{1}=tanh(z_{1})$ | $z_{2}=W_{2}a_{1}+b_{2}$ | $a_{2}=softmax(z_{2})$\n",
    "|||||\n",
    "BP公式|-| $\\frac{\\partial{L}}{\\partial{W_{1}}}=x^{T}\\delta_{2}$ | $\\delta_{2}=(1-tanh^{2}z_{1})\\odot \\delta_{3}W^{T}_{2}$ | $\\frac{\\partial{L}}{\\partial{W_{2}}}=a_{1}^{T}\\delta_{3}$ | $ \\delta_{3}=\\widehat{y}-y$\n",
    "|| $\\frac{\\partial{L}}{\\partial{b_{1}}}=\\delta_{2}$ || $\\frac{\\partial{L}}{\\partial{b_{2}}}=\\delta_{3}$ |\n",
    "\n",
    "\n",
    "对应反向传播的公式为："
   ]
  },
  {
   "cell_type": "code",
   "execution_count": 8,
   "metadata": {},
   "outputs": [],
   "source": [
    "import numpy as np\n",
    "import tensorflow as tf\n",
    "from sklearn.datasets import make_moons\n",
    "import matplotlib.pyplot as plt\n",
    "\n",
    "np.random.seed(1)\n",
    "tf.set_random_seed(1)"
   ]
  },
  {
   "cell_type": "code",
   "execution_count": 9,
   "metadata": {},
   "outputs": [],
   "source": [
    "moon_data, moon_label = make_moons(200, noise=0.1)"
   ]
  },
  {
   "cell_type": "code",
   "execution_count": 10,
   "metadata": {},
   "outputs": [],
   "source": [
    "# 绘制决策等高图函数\n",
    "def plot_decision_boundary(data, pred_func):\n",
    "    x_min, x_max = data[:, 0].min() - .5, data[:, 0].max() + .5\n",
    "    y_min, y_max = data[:, 1].min() - .5, data[:, 1].max() + .5\n",
    "    \n",
    "#     x_min, x_max = moon_data[:, 0].min() - .5, moon_data[:, 0].max() + .5\n",
    "#     y_min, y_max = moon_data[:, 1].min() - .5, moon_data[:, 1].max() + .5\n",
    "    \n",
    "    h = 0.01\n",
    "\n",
    "    xx, yy = np.meshgrid(np.arange(x_min, x_max, h),\n",
    "                         np.arange(y_min, y_max, h))\n",
    "    label = pred_func(np.c_[xx.ravel(), yy.ravel()])\n",
    "    label = label.reshape(xx.shape)\n",
    "    plt.contourf(xx, yy, label, cmap=plt.cm.Spectral ) #"
   ]
  },
  {
   "cell_type": "code",
   "execution_count": 11,
   "metadata": {},
   "outputs": [],
   "source": [
    "num_examples = len(moon_data) \n",
    "nn_input_dim = 2 # (input dimention)\n",
    "nn_output_dim = 2 # (one-vs-one）\n",
    " \n",
    "\n",
    "learning_rate = 0.01 \n",
    "regularization_lambda = 0.01\n",
    "\n",
    "def calculate_loss(data, label, NetWork):\n",
    "    W1, b1, W2, b2 = NetWork['W1'], NetWork['b1'], NetWork['W2'], NetWork['b2']\n",
    "    # forward calculation\n",
    "    z1 = data.dot(W1) + b1\n",
    "    a1 = np.tanh(z1)\n",
    "    z2 = a1.dot(W2) + b2\n",
    "    # softmax(z2)\n",
    "    exp_z2 = np.exp(z2)\n",
    "    probs = exp_z2 / np.sum(exp_z2, axis=1, keepdims=True)\n",
    "    # calculate loss\n",
    "    corect_logprobs = -np.log(probs[range(num_examples), label])\n",
    "    data_loss = np.sum(corect_logprobs)\n",
    "    # L2 regularization\n",
    "    data_loss += regularization_lambda/2 * (np.sum(np.square(W1)) + np.sum(np.square(W2)))\n",
    "    return 1./num_examples * data_loss"
   ]
  },
  {
   "cell_type": "code",
   "execution_count": 12,
   "metadata": {},
   "outputs": [],
   "source": [
    "def build_network(data, label, nn_hdim, num_epoch=1000, moniter_loss=False):\n",
    "    \n",
    "    #Initialize each weight using a Gaussian distribution with mean 0\n",
    "    #and standard deviation 1 over the square root of the number of\n",
    "    #weights connecting to the same neuron.\n",
    "    W1 = np.random.randn(nn_input_dim, nn_hdim) / np.sqrt(nn_input_dim)   \n",
    "    W2 = np.random.randn(nn_hdim, nn_output_dim) / np.sqrt(nn_hdim)\n",
    "    \n",
    "    b1 = np.zeros((1, nn_hdim))\n",
    "    b2 = np.zeros((1, nn_output_dim))\n",
    " \n",
    "    network = {}\n",
    "     \n",
    "    for i in range(0, num_epoch):\n",
    " \n",
    "        # FP calculation\n",
    "        z1 = data.dot(W1) + b1\n",
    "        a1 = np.tanh(z1)\n",
    "        z2 = a1.dot(W2) + b2\n",
    "        exp_scores = np.exp(z2)\n",
    "        probs = exp_scores / np.sum(exp_scores, axis=1, keepdims=True)\n",
    "     \n",
    "       \n",
    "        # BP calculation\n",
    "        delta3 = probs\n",
    "        delta3[range(num_examples), label] -= 1\n",
    "        dW2 = (a1.T).dot(delta3)\n",
    "        db2 = np.sum(delta3, axis=0, keepdims=True)\n",
    "        delta2 = delta3.dot(W2.T) * (1 - np.power(a1, 2))\n",
    "        dW1 = np.dot(data.T, delta2)\n",
    "        db1 = np.sum(delta2, axis=0)\n",
    " \n",
    "        # lan Goodfellow, Deep learning[M]; seciton7.1\n",
    "        # regular gradient decay\n",
    "        dW2 += regularization_lambda  * W2\n",
    "        dW1 += regularization_lambda  * W1\n",
    " \n",
    "        # Update the network's weights and biases by applying GD \n",
    "        # using BP algorithm\n",
    "        W1 += -learning_rate * dW1\n",
    "        b1 += -learning_rate * db1\n",
    "        W2 += -learning_rate * dW2\n",
    "        b2 += -learning_rate * db2\n",
    "         \n",
    "        network = { 'W1': W1, 'b1': b1, 'W2': W2, 'b2': b2}\n",
    "         \n",
    "        # print loss if moniter is TRUE\n",
    "        if  moniter_loss and i % 100 == 0:\n",
    "          print(\"Loss after iteration %i: %f\" %(i, calculate_loss(data, label, network)))\n",
    "     \n",
    "    return network"
   ]
  },
  {
   "cell_type": "code",
   "execution_count": 13,
   "metadata": {},
   "outputs": [],
   "source": [
    "def predict(network, data):\n",
    "    W1, b1, W2, b2 = network['W1'], network['b1'], network['W2'], network['b2']\n",
    "    \n",
    "    z1 = data.dot(W1) + b1\n",
    "    a1 = np.tanh(z1)\n",
    "    z2 = a1.dot(W2) + b2\n",
    "    exp_z2 = np.exp(z2)\n",
    "    # 计算概率输出最大概率对应的类别\n",
    "    probs = exp_z2 / np.sum(exp_z2, axis=1, keepdims=True)\n",
    "    return np.argmax(probs, axis=1)"
   ]
  },
  {
   "cell_type": "code",
   "execution_count": 15,
   "metadata": {},
   "outputs": [
    {
     "name": "stdout",
     "output_type": "stream",
     "text": [
      "Loss after iteration 0: 0.467331\n",
      "Loss after iteration 100: 0.188158\n",
      "Loss after iteration 200: 0.022616\n",
      "Loss after iteration 300: 0.012391\n",
      "Loss after iteration 400: 0.009497\n",
      "Loss after iteration 500: 0.008193\n",
      "Loss after iteration 600: 0.007470\n",
      "Loss after iteration 700: 0.007021\n",
      "Loss after iteration 800: 0.006721\n",
      "Loss after iteration 900: 0.006510\n"
     ]
    },
    {
     "data": {
      "image/png": "[encoded data removed]",
      "text/plain": [
       "<matplotlib.figure.Figure at 0x284a5d53dd8>"
      ]
     },
     "metadata": {},
     "output_type": "display_data"
    }
   ],
   "source": [
    "simple_network = build_network(moon_data, moon_label, 4, moniter_loss=True)\n",
    " \n",
    "# 决策/判定边界\n",
    "plot_decision_boundary(moon_data,(lambda x: predict(simple_network, x)))\n",
    "plt.scatter(moon_data[:,0], moon_data[:,1], c=moon_label, cmap=plt.cm.Spectral)\n",
    "plt.title(\"Decision Boundary for hidden layer size 4\")\n",
    "plt.show()"
   ]
  },
  {
   "cell_type": "markdown",
   "metadata": {},
   "source": [
    "## TensorFlow  高级API的使用和训练"
   ]
  },
  {
   "cell_type": "code",
   "execution_count": 16,
   "metadata": {},
   "outputs": [
    {
     "name": "stdout",
     "output_type": "stream",
     "text": [
      "WARNING:tensorflow:float64 is not supported by many models, consider casting to float32.\n"
     ]
    },
    {
     "data": {
      "text/plain": [
       "[_RealValuedColumn(column_name='', dimension=2, default_value=None, dtype=tf.float64, normalizer=None)]"
      ]
     },
     "execution_count": 16,
     "metadata": {},
     "output_type": "execute_result"
    }
   ],
   "source": [
    "feature_columns = tf.contrib.learn.infer_real_valued_columns_from_input(moon_data)\n",
    "feature_columns"
   ]
  },
  {
   "cell_type": "code",
   "execution_count": 17,
   "metadata": {},
   "outputs": [
    {
     "name": "stdout",
     "output_type": "stream",
     "text": [
      "INFO:tensorflow:Using default config.\n",
      "WARNING:tensorflow:Using temporary folder as model directory: C:\\Users\\cheen\\AppData\\Local\\Temp\\tmpmfiswbow\n",
      "INFO:tensorflow:Using config: {'_tf_config': gpu_options {\n",
      "  per_process_gpu_memory_fraction: 1.0\n",
      "}\n",
      ", '_num_worker_replicas': 0, '_session_config': None, '_keep_checkpoint_every_n_hours': 10000, '_master': '', '_save_summary_steps': 100, '_tf_random_seed': None, '_save_checkpoints_secs': 600, '_log_step_count_steps': 100, '_keep_checkpoint_max': 5, '_cluster_spec': <tensorflow.python.training.server_lib.ClusterSpec object at 0x00000284A841BCC0>, '_evaluation_master': '', '_model_dir': 'C:\\\\Users\\\\cheen\\\\AppData\\\\Local\\\\Temp\\\\tmpmfiswbow', '_num_ps_replicas': 0, '_task_type': None, '_task_id': 0, '_is_chief': True, '_save_checkpoints_steps': None, '_environment': 'local'}\n"
     ]
    }
   ],
   "source": [
    "dnn_clf = tf.contrib.learn.DNNClassifier(hidden_units=[4], n_classes=2,feature_columns=feature_columns)"
   ]
  },
  {
   "cell_type": "code",
   "execution_count": 18,
   "metadata": {},
   "outputs": [
    {
     "name": "stdout",
     "output_type": "stream",
     "text": [
      "WARNING:tensorflow:From <ipython-input-18-73c1f2fc77eb>:1: calling BaseEstimator.fit (from tensorflow.contrib.learn.python.learn.estimators.estimator) with batch_size is deprecated and will be removed after 2016-12-01.\n",
      "Instructions for updating:\n",
      "Estimator is decoupled from Scikit Learn interface by moving into\n",
      "separate class SKCompat. Arguments x, y and batch_size are only\n",
      "available in the SKCompat class, Estimator will only accept input_fn.\n",
      "Example conversion:\n",
      "  est = Estimator(...) -> est = SKCompat(Estimator(...))\n",
      "WARNING:tensorflow:From <ipython-input-18-73c1f2fc77eb>:1: calling BaseEstimator.fit (from tensorflow.contrib.learn.python.learn.estimators.estimator) with x is deprecated and will be removed after 2016-12-01.\n",
      "Instructions for updating:\n",
      "Estimator is decoupled from Scikit Learn interface by moving into\n",
      "separate class SKCompat. Arguments x, y and batch_size are only\n",
      "available in the SKCompat class, Estimator will only accept input_fn.\n",
      "Example conversion:\n",
      "  est = Estimator(...) -> est = SKCompat(Estimator(...))\n",
      "WARNING:tensorflow:From <ipython-input-18-73c1f2fc77eb>:1: calling BaseEstimator.fit (from tensorflow.contrib.learn.python.learn.estimators.estimator) with y is deprecated and will be removed after 2016-12-01.\n",
      "Instructions for updating:\n",
      "Estimator is decoupled from Scikit Learn interface by moving into\n",
      "separate class SKCompat. Arguments x, y and batch_size are only\n",
      "available in the SKCompat class, Estimator will only accept input_fn.\n",
      "Example conversion:\n",
      "  est = Estimator(...) -> est = SKCompat(Estimator(...))\n",
      "WARNING:tensorflow:float64 is not supported by many models, consider casting to float32.\n",
      "WARNING:tensorflow:Casting <dtype: 'int64'> labels to bool.\n",
      "WARNING:tensorflow:Casting <dtype: 'int64'> labels to bool.\n",
      "INFO:tensorflow:Create CheckpointSaverHook.\n",
      "INFO:tensorflow:Graph was finalized.\n",
      "INFO:tensorflow:Running local_init_op.\n",
      "INFO:tensorflow:Done running local_init_op.\n",
      "INFO:tensorflow:Saving checkpoints for 1 into C:\\Users\\cheen\\AppData\\Local\\Temp\\tmpmfiswbow\\model.ckpt.\n",
      "INFO:tensorflow:loss = 0.565843, step = 1\n",
      "INFO:tensorflow:global_step/sec: 664.01\n",
      "INFO:tensorflow:loss = 0.295251, step = 101 (0.152 sec)\n",
      "INFO:tensorflow:global_step/sec: 787.436\n",
      "INFO:tensorflow:loss = 0.265007, step = 201 (0.127 sec)\n",
      "INFO:tensorflow:global_step/sec: 833.341\n",
      "INFO:tensorflow:loss = 0.25398, step = 301 (0.120 sec)\n",
      "INFO:tensorflow:global_step/sec: 921.57\n",
      "INFO:tensorflow:loss = 0.2575, step = 401 (0.107 sec)\n",
      "INFO:tensorflow:global_step/sec: 1173.98\n",
      "INFO:tensorflow:loss = 0.220675, step = 501 (0.085 sec)\n",
      "INFO:tensorflow:global_step/sec: 1279.07\n",
      "INFO:tensorflow:loss = 0.192271, step = 601 (0.079 sec)\n",
      "INFO:tensorflow:global_step/sec: 1204.8\n",
      "INFO:tensorflow:loss = 0.150563, step = 701 (0.084 sec)\n",
      "INFO:tensorflow:global_step/sec: 1162.82\n",
      "INFO:tensorflow:loss = 0.233545, step = 801 (0.086 sec)\n",
      "INFO:tensorflow:global_step/sec: 1219.49\n",
      "INFO:tensorflow:loss = 0.186229, step = 901 (0.082 sec)\n",
      "INFO:tensorflow:global_step/sec: 1204.82\n",
      "INFO:tensorflow:loss = 0.197005, step = 1001 (0.082 sec)\n",
      "INFO:tensorflow:global_step/sec: 1461.79\n",
      "INFO:tensorflow:loss = 0.309253, step = 1101 (0.067 sec)\n",
      "INFO:tensorflow:global_step/sec: 1182.09\n",
      "INFO:tensorflow:loss = 0.197176, step = 1201 (0.085 sec)\n",
      "INFO:tensorflow:global_step/sec: 987.69\n",
      "INFO:tensorflow:loss = 0.258207, step = 1301 (0.101 sec)\n",
      "INFO:tensorflow:global_step/sec: 1180.68\n",
      "INFO:tensorflow:loss = 0.238001, step = 1401 (0.086 sec)\n",
      "INFO:tensorflow:global_step/sec: 1534.03\n",
      "INFO:tensorflow:loss = 0.151933, step = 1501 (0.064 sec)\n",
      "INFO:tensorflow:global_step/sec: 1024.75\n",
      "INFO:tensorflow:loss = 0.156374, step = 1601 (0.099 sec)\n",
      "INFO:tensorflow:global_step/sec: 1610.1\n",
      "INFO:tensorflow:loss = 0.293042, step = 1701 (0.077 sec)\n",
      "INFO:tensorflow:global_step/sec: 994.613\n",
      "INFO:tensorflow:loss = 0.188224, step = 1801 (0.086 sec)\n",
      "INFO:tensorflow:global_step/sec: 1133.59\n",
      "INFO:tensorflow:loss = 0.198896, step = 1901 (0.089 sec)\n",
      "INFO:tensorflow:global_step/sec: 1474.93\n",
      "INFO:tensorflow:loss = 0.229571, step = 2001 (0.066 sec)\n",
      "INFO:tensorflow:global_step/sec: 1480.33\n",
      "INFO:tensorflow:loss = 0.151929, step = 2101 (0.068 sec)\n",
      "INFO:tensorflow:global_step/sec: 1235.52\n",
      "INFO:tensorflow:loss = 0.270829, step = 2201 (0.082 sec)\n",
      "INFO:tensorflow:global_step/sec: 1204.82\n",
      "INFO:tensorflow:loss = 0.127839, step = 2301 (0.084 sec)\n",
      "INFO:tensorflow:global_step/sec: 1444.05\n",
      "INFO:tensorflow:loss = 0.135979, step = 2401 (0.067 sec)\n",
      "INFO:tensorflow:global_step/sec: 1178.63\n",
      "INFO:tensorflow:loss = 0.247119, step = 2501 (0.085 sec)\n",
      "INFO:tensorflow:global_step/sec: 1155.71\n",
      "INFO:tensorflow:loss = 0.224339, step = 2601 (0.087 sec)\n",
      "INFO:tensorflow:global_step/sec: 1055.83\n",
      "INFO:tensorflow:loss = 0.0931105, step = 2701 (0.097 sec)\n",
      "INFO:tensorflow:global_step/sec: 1249.99\n",
      "INFO:tensorflow:loss = 0.157205, step = 2801 (0.080 sec)\n",
      "INFO:tensorflow:global_step/sec: 1190.48\n",
      "INFO:tensorflow:loss = 0.239657, step = 2901 (0.083 sec)\n",
      "INFO:tensorflow:global_step/sec: 1204.8\n",
      "INFO:tensorflow:loss = 0.256084, step = 3001 (0.084 sec)\n",
      "INFO:tensorflow:global_step/sec: 1123.62\n",
      "INFO:tensorflow:loss = 0.224189, step = 3101 (0.089 sec)\n",
      "INFO:tensorflow:global_step/sec: 1162.69\n",
      "INFO:tensorflow:loss = 0.269595, step = 3201 (0.085 sec)\n",
      "INFO:tensorflow:global_step/sec: 1258.23\n",
      "INFO:tensorflow:loss = 0.145764, step = 3301 (0.078 sec)\n",
      "INFO:tensorflow:global_step/sec: 1501.04\n",
      "INFO:tensorflow:loss = 0.18583, step = 3401 (0.082 sec)\n",
      "INFO:tensorflow:global_step/sec: 1057.69\n",
      "INFO:tensorflow:loss = 0.170312, step = 3501 (0.080 sec)\n",
      "INFO:tensorflow:global_step/sec: 1385.78\n",
      "INFO:tensorflow:loss = 0.232763, step = 3601 (0.071 sec)\n",
      "INFO:tensorflow:global_step/sec: 1210.78\n",
      "INFO:tensorflow:loss = 0.225033, step = 3701 (0.084 sec)\n",
      "INFO:tensorflow:global_step/sec: 1196.66\n",
      "INFO:tensorflow:loss = 0.182522, step = 3801 (0.084 sec)\n",
      "INFO:tensorflow:global_step/sec: 1266.36\n",
      "INFO:tensorflow:loss = 0.159886, step = 3901 (0.080 sec)\n",
      "INFO:tensorflow:Saving checkpoints for 4000 into C:\\Users\\cheen\\AppData\\Local\\Temp\\tmpmfiswbow\\model.ckpt.\n",
      "INFO:tensorflow:Loss for final step: 0.242298.\n"
     ]
    },
    {
     "data": {
      "text/plain": [
       "DNNClassifier(params={'input_layer_min_slice_size': None, 'embedding_lr_multipliers': None, 'dropout': None, 'optimizer': None, 'head': <tensorflow.contrib.learn.python.learn.estimators.head._BinaryLogisticHead object at 0x00000284A841BE10>, 'gradient_clip_norm': None, 'hidden_units': [4], 'feature_columns': (_RealValuedColumn(column_name='', dimension=2, default_value=None, dtype=tf.float64, normalizer=None),), 'activation_fn': <function relu at 0x00000284A25E01E0>})"
      ]
     },
     "execution_count": 18,
     "metadata": {},
     "output_type": "execute_result"
    }
   ],
   "source": [
    "dnn_clf.fit(x=moon_data, y=moon_label, batch_size=50, steps=4000)"
   ]
  },
  {
   "cell_type": "code",
   "execution_count": 29,
   "metadata": {},
   "outputs": [
    {
     "name": "stdout",
     "output_type": "stream",
     "text": [
      "WARNING:tensorflow:float64 is not supported by many models, consider casting to float32.\n",
      "INFO:tensorflow:Graph was finalized.\n",
      "INFO:tensorflow:Restoring parameters from C:\\Users\\cheen\\AppData\\Local\\Temp\\tmpmfiswbow\\model.ckpt-4000\n",
      "INFO:tensorflow:Running local_init_op.\n",
      "INFO:tensorflow:Done running local_init_op.\n"
     ]
    },
    {
     "data": {
      "text/plain": [
       "array(<generator object DNNClassifier.predict_classes.<locals>.<genexpr> at 0x00000284AA57C308>, dtype=object)"
      ]
     },
     "execution_count": 29,
     "metadata": {},
     "output_type": "execute_result"
    }
   ],
   "source": [
    "moon_pred = dnn_clf.predict(moon_data)\n",
    "np.array(moon_pred)"
   ]
  },
  {
   "cell_type": "code",
   "execution_count": 30,
   "metadata": {},
   "outputs": [],
   "source": [
    "# ## something wrong here\n",
    "# plot_decision_boundary(moon_data,(lambda x: np.array(dnn_clf.predict(x))))\n",
    "# plt.scatter(moon_data[:,0], moon_data[:,1], c=moon_label, cmap=plt.cm.Spectral)\n",
    "# plt.title(\"Decision Boundary for hidden layer size 4\")\n",
    "# plt.show()"
   ]
  },
  {
   "cell_type": "code",
   "execution_count": null,
   "metadata": {},
   "outputs": [],
   "source": []
  },
  {
   "cell_type": "code",
   "execution_count": null,
   "metadata": {},
   "outputs": [],
   "source": []
  }
 ],
 "metadata": {
  "kernelspec": {
   "display_name": "Python 3",
   "language": "python",
   "name": "python3"
  },
  "language_info": {
   "codemirror_mode": {
    "name": "ipython",
    "version": 3
   },
   "file_extension": ".py",
   "mimetype": "text/x-python",
   "name": "python",
   "nbconvert_exporter": "python",
   "pygments_lexer": "ipython3",
   "version": "3.5.4"
  }
 },
 "nbformat": 4,
 "nbformat_minor": 2
}
